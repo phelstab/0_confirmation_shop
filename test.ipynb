{
 "cells": [
  {
   "cell_type": "code",
   "execution_count": 1,
   "metadata": {},
   "outputs": [
    {
     "name": "stdout",
     "output_type": "stream",
     "text": [
      "mmh9NrYsNUtvgQEFDXjbVgVriYHB5B8us2\n"
     ]
    }
   ],
   "source": [
    "from blockcypher import get_address_details\n",
    "from cryptos import *\n",
    "\n",
    "btc_testnet = Bitcoin(\"testnet\")\n",
    "def generate_address(sha256_string):\n",
    "    priv_key = sha256(sha256_string)\n",
    "    pub_key = btc_testnet.privtopub(priv_key)\n",
    "    address = btc_testnet.pubtoaddr(pub_key)\n",
    "    return priv_key, pub_key, address\n",
    "\n",
    "\n",
    "priv, pub, adr = generate_address(\"privatekey\")\n",
    "\n",
    "print(adr)"
   ]
  },
  {
   "cell_type": "code",
   "execution_count": 2,
   "metadata": {},
   "outputs": [
    {
     "name": "stdout",
     "output_type": "stream",
     "text": [
      "{'address': 'mmh9NrYsNUtvgQEFDXjbVgVriYHB5B8us2', 'total_received': 0, 'total_sent': 0, 'balance': 0, 'unconfirmed_balance': 0, 'final_balance': 0, 'n_tx': 0, 'unconfirmed_n_tx': 0, 'final_n_tx': 0, 'tx_url': 'https://api.blockcypher.com/v1/btc/test3/txs/', 'txrefs': [], 'unconfirmed_txrefs': []}\n",
      "0\n",
      "[]\n",
      "16:54\n"
     ]
    }
   ],
   "source": [
    "address_details = get_address_details(\"mmh9NrYsNUtvgQEFDXjbVgVriYHB5B8us2\", coin_symbol='btc-testnet')\n",
    "print(address_details)\n",
    "balance = address_details['final_balance']\n",
    "print(balance)\n",
    "unconf = address_details['unconfirmed_txrefs']\n",
    "print(unconf)\n",
    "print(time.strftime(\"%H:%M\"))"
   ]
  },
  {
   "cell_type": "code",
   "execution_count": 3,
   "metadata": {},
   "outputs": [
    {
     "name": "stdout",
     "output_type": "stream",
     "text": [
      "{'address': 'n3RCggrRdnzD1YU7rc7UBYZ8PEJSNGD6yR', 'total_received': 0, 'total_sent': 0, 'balance': 0, 'unconfirmed_balance': 0, 'final_balance': 0, 'n_tx': 0, 'unconfirmed_n_tx': 0, 'final_n_tx': 0, 'tx_url': 'https://api.blockcypher.com/v1/btc/test3/txs/', 'txrefs': [], 'unconfirmed_txrefs': []}\n",
      "0\n",
      "[]\n",
      "16:35\n"
     ]
    }
   ],
   "source": [
    "address_details = get_address_details(\"mgmVUm4pTBxJE9TZx8DYTrwPnLxfD6SWqC\", coin_symbol='btc-testnet')\n",
    "print(address_details)\n",
    "balance = address_details['final_balance']\n",
    "print(balance)\n",
    "unconf = address_details['unconfirmed_txrefs']\n",
    "print(unconf)\n",
    "print(time.strftime(\"%H:%M\"))\n",
    "# test scam trans https://live.blockcypher.com/btc-testnet/tx/0409c8e039e9097e76a4368121c5c7cff686b803ddf6f7ee1de8f1defe7fc0e5/\n",
    "\n",
    "# original trans "
   ]
  }
 ],
 "metadata": {
  "kernelspec": {
   "display_name": "venv",
   "language": "python",
   "name": "python3"
  },
  "language_info": {
   "codemirror_mode": {
    "name": "ipython",
    "version": 3
   },
   "file_extension": ".py",
   "mimetype": "text/x-python",
   "name": "python",
   "nbconvert_exporter": "python",
   "pygments_lexer": "ipython3",
   "version": "3.12.4"
  }
 },
 "nbformat": 4,
 "nbformat_minor": 2
}
